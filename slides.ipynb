{
 "cells": [
  {
   "cell_type": "markdown",
   "metadata": {
    "slideshow": {
     "slide_type": "slide"
    }
   },
   "source": [
    "# Intro to Python Web Microframeworks\n",
    "\n",
    "~ Shreyas Bapat (@shreyasbapat)\n",
    "\n",
    "## * Flask\n",
    "\n",
    "## * Dash (In fact based on flask)"
   ]
  },
  {
   "cell_type": "markdown",
   "metadata": {
    "slideshow": {
     "slide_type": "slide"
    }
   },
   "source": [
    "![Flask Logo](flask.png)"
   ]
  },
  {
   "cell_type": "markdown",
   "metadata": {
    "slideshow": {
     "slide_type": "fragment"
    }
   },
   "source": [
    "## $ pip install Flask"
   ]
  },
  {
   "cell_type": "code",
   "execution_count": 2,
   "metadata": {
    "slideshow": {
     "slide_type": "slide"
    }
   },
   "outputs": [],
   "source": [
    "from flask import Flask\n",
    "app = Flask(__name__)\n",
    "\n",
    "@app.route(\"/\")\n",
    "def main():\n",
    "    return \"We are using Flask!\""
   ]
  },
  {
   "cell_type": "markdown",
   "metadata": {
    "slideshow": {
     "slide_type": "slide"
    }
   },
   "source": [
    "# So, what's in it ?\n",
    "\n",
    "* Built-in development server and debugger\n",
    "* Integrated unit testing support\n",
    "* RESTful request dispatching\n",
    "* Uses Jinja2 templating\n",
    "* Support for secure cookies (client side sessions)\n",
    "* 100% WSGI 1.0 compliant\n",
    "* Unicode based\n",
    "* Amazing Documentation\n",
    "\n",
    "#### Link to Documentation: http://flask.pocoo.org/docs/1.0/"
   ]
  },
  {
   "cell_type": "markdown",
   "metadata": {
    "slideshow": {
     "slide_type": "slide"
    }
   },
   "source": [
    "## Built in Server and Debugger\n",
    "\n",
    "### Server\n",
    "\n",
    "Ability to use any server (You can just choose to **Not** use the built in server and deploy one of choice.)\n",
    "\n",
    "#### Flask is not Scalable! -> Servers are either scalable or they aren't. And Flask is not a server.\n",
    "\n",
    "#### Key Point : Flask is scalable!"
   ]
  },
  {
   "cell_type": "markdown",
   "metadata": {
    "slideshow": {
     "slide_type": "slide"
    }
   },
   "source": [
    "### Debugger\n",
    "\n",
    "You don't have to rely on terminal for looking at tracebacks! \n",
    "\n",
    "![Debugger](debugger.png)\n",
    "\n",
    "**Remember : Your python code will still run untill you encounter a method that does not work. It's an interpreted language and you will always encounter RunTime Errors.**"
   ]
  },
  {
   "cell_type": "markdown",
   "metadata": {
    "slideshow": {
     "slide_type": "slide"
    }
   },
   "source": [
    "### Unit Testing, WHY?\n",
    "\n",
    "What is unit testing?"
   ]
  },
  {
   "cell_type": "code",
   "execution_count": 6,
   "metadata": {
    "slideshow": {
     "slide_type": "fragment"
    }
   },
   "outputs": [],
   "source": [
    "import pytest\n",
    "import unittest"
   ]
  },
  {
   "cell_type": "code",
   "execution_count": 7,
   "metadata": {
    "slideshow": {
     "slide_type": "fragment"
    }
   },
   "outputs": [
    {
     "data": {
      "text/plain": [
       "0.30000000000000004"
      ]
     },
     "execution_count": 7,
     "metadata": {},
     "output_type": "execute_result"
    }
   ],
   "source": [
    "0.1 + 0.2"
   ]
  },
  {
   "cell_type": "markdown",
   "metadata": {
    "slideshow": {
     "slide_type": "slide"
    }
   },
   "source": [
    "Aasan Bhasha me ...\n",
    "\n",
    "\n",
    "\n",
    "# URL Processors"
   ]
  },
  {
   "cell_type": "code",
   "execution_count": 9,
   "metadata": {
    "slideshow": {
     "slide_type": "slide"
    }
   },
   "outputs": [],
   "source": [
    "@app.route(\"/ek_ye_wala\")\n",
    "def main1():\n",
    "    return \"We are using Flask!\"\n",
    "\n",
    "@app.route(\"/ek_ye_bhi\")\n",
    "def main2():\n",
    "    return \"We are using Flask!\"\n",
    "\n",
    "@app.route(\"/ye_bhi_lelo\")\n",
    "def main3():\n",
    "    return \"We are using Flask!\"\n",
    "\n",
    "@app.route(\"/ab_chep_hi_ho_lete_hai\")\n",
    "def main4():\n",
    "    return \"We are using Flask!\"\n",
    "\n",
    "@app.route(\"/mai_to_aur_banaunga\")\n",
    "def main5():\n",
    "    return \"We are using Flask!\"\n",
    "\n",
    "@app.route(\"/i_am_a_Swaggy_Flask_dev\")\n",
    "def main6():\n",
    "    return \"We are using Flask!\""
   ]
  },
  {
   "cell_type": "markdown",
   "metadata": {
    "slideshow": {
     "slide_type": "slide"
    }
   },
   "source": [
    "# Render Templates"
   ]
  },
  {
   "cell_type": "code",
   "execution_count": 3,
   "metadata": {
    "slideshow": {
     "slide_type": "slide"
    }
   },
   "outputs": [],
   "source": [
    "from flask import render_template\n",
    "\n",
    "@app.route('/hello/')\n",
    "@app.route('/hello/<name>')\n",
    "def hello(name=None):\n",
    "    return render_template('hello.html', name=name)"
   ]
  },
  {
   "cell_type": "markdown",
   "metadata": {
    "slideshow": {
     "slide_type": "slide"
    }
   },
   "source": [
    "### Template must be in `templates` folder\n",
    "```\n",
    "\n",
    "<!doctype html>\n",
    "<title>Hello from Flask</title>\n",
    "{% if name %}\n",
    "  <h1>Hello {{ name }}!</h1>\n",
    "{% else %}\n",
    "  <h1>Hello, World!</h1>\n",
    "{% endif %}\n",
    "\n",
    "```\n",
    "\n",
    "## Jinja2 Templates\n",
    "\n",
    "*Documentation to Jinja2 :* http://jinja.pocoo.org/docs/2.10/templates/"
   ]
  },
  {
   "cell_type": "markdown",
   "metadata": {
    "slideshow": {
     "slide_type": "slide"
    }
   },
   "source": [
    "### Using Flask Requests to do login"
   ]
  },
  {
   "cell_type": "code",
   "execution_count": 5,
   "metadata": {
    "slideshow": {
     "slide_type": "slide"
    }
   },
   "outputs": [],
   "source": [
    "from flask import request\n",
    "\n",
    "@app.route('/login', methods=['GET', 'POST'])\n",
    "def login():\n",
    "    if request.method == 'POST':\n",
    "        return do_the_login()\n",
    "    else:\n",
    "        return show_the_login_form()"
   ]
  },
  {
   "cell_type": "markdown",
   "metadata": {
    "slideshow": {
     "slide_type": "fragment"
    }
   },
   "source": [
    "#### Let's Upload a file"
   ]
  },
  {
   "cell_type": "code",
   "execution_count": 6,
   "metadata": {
    "slideshow": {
     "slide_type": "slide"
    }
   },
   "outputs": [],
   "source": [
    "from flask import request\n",
    "\n",
    "@app.route('/upload', methods=['GET', 'POST'])\n",
    "def upload_file():\n",
    "    if request.method == 'POST':\n",
    "        f = request.files['the_file']\n",
    "        f.save('/var/www/uploads/uploaded_file.txt')"
   ]
  },
  {
   "cell_type": "markdown",
   "metadata": {
    "slideshow": {
     "slide_type": "slide"
    }
   },
   "source": [
    "## Python -> Amazingly vast\n",
    "\n",
    "## So is Flask!\n",
    "\n",
    "* Use Any Database\n",
    "* Use Any other external Module\n",
    "* Exceptional support to Raspberry Pi"
   ]
  },
  {
   "cell_type": "markdown",
   "metadata": {
    "slideshow": {
     "slide_type": "slide"
    }
   },
   "source": [
    "Append this at the end of `flask` apps:\n",
    "```\n",
    "if __name__ == '__main__':\n",
    "    app.run(port=9000, debug=True)\n",
    "    \n",
    "```"
   ]
  },
  {
   "cell_type": "markdown",
   "metadata": {
    "slideshow": {
     "slide_type": "slide"
    }
   },
   "source": [
    "# Deployment\n",
    "\n",
    "Perhaps! Do it on your own: http://flask.pocoo.org/docs/1.0/deploying/#deployment"
   ]
  },
  {
   "cell_type": "markdown",
   "metadata": {
    "slideshow": {
     "slide_type": "slide"
    }
   },
   "source": [
    "![Dash Logo](dash.png)\n",
    "\n",
    "A really amazing way to develop interactive web-apps **without** JavaScript"
   ]
  },
  {
   "cell_type": "code",
   "execution_count": 8,
   "metadata": {
    "slideshow": {
     "slide_type": "slide"
    }
   },
   "outputs": [],
   "source": [
    "# -*- coding: utf-8 -*-\n",
    "import dash\n",
    "import dash_core_components as dcc\n",
    "import dash_html_components as html"
   ]
  },
  {
   "cell_type": "markdown",
   "metadata": {
    "slideshow": {
     "slide_type": "slide"
    }
   },
   "source": [
    "# Using External Stylesheets"
   ]
  },
  {
   "cell_type": "code",
   "execution_count": 9,
   "metadata": {
    "slideshow": {
     "slide_type": "fragment"
    }
   },
   "outputs": [],
   "source": [
    "external_stylesheets = ['https://codepen.io/chriddyp/pen/bWLwgP.css']"
   ]
  },
  {
   "cell_type": "markdown",
   "metadata": {
    "slideshow": {
     "slide_type": "slide"
    }
   },
   "source": [
    "### App Layout"
   ]
  },
  {
   "cell_type": "code",
   "execution_count": 17,
   "metadata": {
    "slideshow": {
     "slide_type": "slide"
    }
   },
   "outputs": [],
   "source": [
    "app = dash.Dash(__name__, external_stylesheets=external_stylesheets)\n",
    "\n",
    "app.layout = html.Div(children=[\n",
    "    html.H1(children='Hello Dash'),\n",
    "\n",
    "    html.Div(children='''\n",
    "        Dash: A web application framework for Python.\n",
    "    '''),\n",
    "\n",
    "    dcc.Graph(\n",
    "        id='example-graph',\n",
    "        figure={\n",
    "            'data': [\n",
    "                {'x': [1, 2, 3], 'y': [4, 1, 2], 'type': 'bar', 'name': 'SF'},\n",
    "                {'x': [1, 2, 3], 'y': [2, 4, 5], 'type': 'bar', 'name': u'Montréal'},\n",
    "            ],\n",
    "            'layout': {\n",
    "                'title': 'Dash Data Visualization'\n",
    "            }\n",
    "        }\n",
    "    )\n",
    "])"
   ]
  },
  {
   "cell_type": "markdown",
   "metadata": {
    "slideshow": {
     "slide_type": "slide"
    }
   },
   "source": [
    "Append this at the end of `dash` apps:\n",
    "```\n",
    "if __name__ == '__main__':\n",
    "    app.run_server(port=9000, debug=True)\n",
    "    \n",
    "```"
   ]
  },
  {
   "cell_type": "markdown",
   "metadata": {
    "slideshow": {
     "slide_type": "slide"
    }
   },
   "source": [
    "## Dash Callbacks"
   ]
  },
  {
   "cell_type": "markdown",
   "metadata": {
    "slideshow": {
     "slide_type": "slide"
    }
   },
   "source": [
    "### Decorators in Python? Do you know?\n",
    "```\n",
    "@bla-bla\n",
    "def kuchtobhi():\n",
    "    pass\n",
    "```\n",
    "\n",
    "**This is :** \n",
    "\n",
    "```\n",
    "def kuchtobhi():\n",
    "    pass\n",
    "\n",
    "def bla-bla(func):\n",
    "    return func\n",
    "\n",
    "bla-bla(kcuhtobhi)\n",
    "```"
   ]
  },
  {
   "cell_type": "code",
   "execution_count": null,
   "metadata": {
    "slideshow": {
     "slide_type": "slide"
    }
   },
   "outputs": [],
   "source": [
    "from dash.dependencies import Input, Output\n",
    "@app.callback(\n",
    "    Output(component_id='my-div', component_property='children'),\n",
    "    [Input(component_id='my-id', component_property='value')]\n",
    ")\n",
    "def update_output_div(input_value):\n",
    "    return 'You\\'ve entered \"{}\"'.format(input_value)"
   ]
  },
  {
   "cell_type": "markdown",
   "metadata": {
    "slideshow": {
     "slide_type": "slide"
    }
   },
   "source": [
    "# Other Highlights\n",
    "\n",
    "#### Update on hover\n",
    "\n",
    "### D3.js can be integrated with Dash Apps\n",
    "\n",
    "#### Live Updates (every 30 secs) - Configurable\n",
    "\n",
    "#### Multipage apps and URL Support (Advance Users Only)\n",
    "\n",
    "#### Overriding the page load template"
   ]
  },
  {
   "cell_type": "markdown",
   "metadata": {
    "slideshow": {
     "slide_type": "slide"
    }
   },
   "source": [
    "* Plotly : https://plot.ly/python/\n",
    "\n",
    "* Dash : https://plot.ly/products/dash/"
   ]
  },
  {
   "cell_type": "code",
   "execution_count": null,
   "metadata": {},
   "outputs": [],
   "source": []
  }
 ],
 "metadata": {
  "celltoolbar": "Slideshow",
  "kernelspec": {
   "display_name": "Python 3",
   "language": "python",
   "name": "python3"
  },
  "language_info": {
   "codemirror_mode": {
    "name": "ipython",
    "version": 3
   },
   "file_extension": ".py",
   "mimetype": "text/x-python",
   "name": "python",
   "nbconvert_exporter": "python",
   "pygments_lexer": "ipython3",
   "version": "3.6.5"
  }
 },
 "nbformat": 4,
 "nbformat_minor": 2
}
